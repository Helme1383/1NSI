{
 "cells": [
  {
   "cell_type": "markdown",
   "metadata": {},
   "source": [
    "## III. Complexité d'un algorithme\n",
    "\n",
    "### III.1 Notion de complexité\n",
    " <br>\n",
    " \n",
    "<div class ='alert-info'>\n",
    "    \n",
    "**N.B. :** Lorsqu'un algorithme donne la bonne réponse à une question, il reste à écrire un programme qui répond à deux impératifs :\n",
    "- donner cette bonne réponse en un temps acceptable : c'est la notion de la **complexité temporelle;**\n",
    "- ne pas occuper trop d'espace en mémoire : c'est la notion de complexité en espace, appelée **complexité spatiale.**\n",
    "\n",
    "Plus précisément, la complexité fait référence à la quantité de ressources nécessaire à la résolution d'un problème.<br>\n",
    "Ces ressources peuvent être temporelle et spatiale.\n",
    "- La complexité temporelle fait référence au temps mis par un programme informatique pour résoudre un\n",
    "problème.\n",
    "- La complexité spatiale fait référence à l'étendue de l'espace mémoire de l'ordinateur nécessaire pour\n",
    "résoudre le problème.\n",
    "    </div>\n",
    " <br>\n",
    "\n",
    "\n",
    "**Remarque n°1 :** Le problème de complexité temporelle (le temps mis par le programme) est fondamental en informatique.<br>\n",
    "Par exemple pour un tableau contenant seulement 20 valeurs, les ranger dans l'ordre croissant sera très rapide quel que soit\n",
    "l'algorithme utilisé. <br>\n",
    "Mais s'il faut répéter cet algorithme des milliers de fois ou si le tableau contient in milliard de valeurs,\n",
    "la qualité de l'algorithme deviendra très importante.\n",
    "\n",
    "\n",
    "**Remarque n°2:** La complexité spatiale correspond aux tailles des variables utilisées dans un programme, ce qui s'évalue assez facilement.<br>\n",
    "Il n'en est pas de même avec la complexité temporelle comme on va le voir à partir du III.2.\n",
    "\n",
    "\n",
    "**Remarque n°3 :** Avec les ordinateurs modernes dotés de vastes mémoire, la question de la complexité spatiale est\n",
    "devenue moins importante.\n",
    "Par ailleurs, Python limite la taille des objets comme les tableaux, les chaînes de caractères et renvoie un message d'erreur \"MemoryError\".\n",
    "\n",
    "C'est pourquoi, à travers les deux dernières remarques, la plupart du temps, on étudiera en Première et Terminale \"uniquement\" la complexité temporelle d'un algorithme.\n"
   ]
  },
  {
   "cell_type": "markdown",
   "metadata": {},
   "source": [
    "### III.2 Evaluer la complexité temporelle\n",
    "<br>\n",
    "<br>\n",
    "<div class='alert-info'>\n",
    "    \n",
    "**N.B. :** Pour mesurer la complexité temporelle (ou le coût en temps) d'un algorithme, il faut déterminer le nombre d'opérations élémentaires nécessaires à son exécution.\n",
    "Une opération élémentaire peut être :\n",
    "- une opération arithmétique (5+3);\n",
    "- une opération logique (and, xor etc...);\n",
    "- une comparaison ( x == 3);\n",
    "- une affectation ( x = 3)\n",
    "- un appel d'une fonction (comme print, len etc... ), un appel d'une variable\n",
    "\n",
    "Toute opération élémentaire prend par définition la même unité de temps pour le programme.<br>\n",
    "C'est pourquoi, pour évaluer la complexité temporelle d'un algorithme, il suffit de compter le nombre d'opérations élémentaires.\n",
    "    </div>\n",
    "\n",
    "### a) Exemple d'un algorithme de complexité constante ( en $O(1)$)\n",
    "\n",
    "Soit le programme ci-dessous:"
   ]
  },
  {
   "cell_type": "code",
   "execution_count": 10,
   "metadata": {},
   "outputs": [
    {
     "name": "stdout",
     "output_type": "stream",
     "text": [
      "1\n"
     ]
    }
   ],
   "source": [
    "somme = 0\n",
    "somme = 0 + 1\n",
    "print(somme)"
   ]
  },
  {
   "cell_type": "markdown",
   "metadata": {},
   "source": [
    "Dans cet algorithme, à la première ligne on a une opération élémentaire (affectation);<br>\n",
    "à la deuxième ligne, on a deux opérations élémentaires (affectation et une addition);<br>\n",
    "à la dernière ligne, on a une opération élémentaire (appel de print)<br>\n",
    "Donc en tout, on a 5 opérations élémentaires.\n",
    "\n",
    "Comme le nombre total d'opérations élémentaires ne varie pas , on dit que la complexité de cet algorithme est constante et note $O(1)$ sa complexité (Notation de Landau).\n",
    "Cela signifie que l'on peut majorer le nombre total d'opérations élémentaires par \"une constante fois 1\".<br>\n",
    "De façon plus intuitive cela signifie que le nombre total d'opérations élémentaires est de l'ordre de 1 i.e est proportionnel à 1.\n"
   ]
  },
  {
   "cell_type": "markdown",
   "metadata": {},
   "source": [
    "### b) Exemple d'un algorithme de complexité linéaire (en $O(n)$)\n",
    "\n",
    "Soit le programme ci-dessous:"
   ]
  },
  {
   "cell_type": "code",
   "execution_count": 11,
   "metadata": {},
   "outputs": [
    {
     "data": {
      "text/plain": [
       "524"
      ]
     },
     "execution_count": 11,
     "metadata": {},
     "output_type": "execute_result"
    }
   ],
   "source": [
    "def somme (n):\n",
    "    cpt=0\n",
    "    for i in range (n):\n",
    "        cpt = cpt + 1\n",
    "    return cpt\n",
    "somme(524)"
   ]
  },
  {
   "cell_type": "markdown",
   "metadata": {},
   "source": [
    "<div class ='alert-info'>\n",
    "    \n",
    "**A faire vous-même 1 :**\n",
    "    \n",
    "Que renvoie `somme(n)` ? Justifier en complétant les pointillés mettant en évidence un invariant de boucle :"
   ]
  },
  {
   "cell_type": "code",
   "execution_count": 34,
   "metadata": {},
   "outputs": [],
   "source": [
    "def somme (n):\n",
    "    cpt=0\n",
    "    for i in range (n):\n",
    "        assert cpt == i  #invariant de boucle pour i variant de 0 à n inclus\n",
    "        cpt = cpt + 1\n",
    "    assert cpt == n   # résultat attendu renvoyé par l'algorithme\n",
    "    return cpt\n",
    "\n",
    "assert somme(524) == 524"
   ]
  },
  {
   "cell_type": "markdown",
   "metadata": {},
   "source": [
    "Notons $C(n)$ le nombre d'opérations élémentaires de cet algorithme initial (sans les `assert`) implémenté en Python.\n",
    "\n",
    "Lorque l'on fait un appel à la fonction `somme` :\n",
    "à la ligne 2, on effectue une opération élémentaire (affectation);\n",
    "à la ligne 4, on répète $n$ fois l'instruction `cpt = cpt + 1` qui contient 2 opérations élémentaires : une affectation et une addition, soit en tout $2n$ opérations élémentaires.<br>\n",
    "Enfin, à la ligne 5, on a une opération élémentaire (appel de la varible cpt).\n",
    "\n",
    "Ainsi, on obtient $C(n)= 2n+1$\n",
    "\n",
    "En utilisant la notation de Landau, on peut écrire  que $C(n)=O(n)$ car $C(n)$ est majorée par \"une constante fois n\" lorsque $n$ devient très grand.\n",
    "\n",
    "On dit alors que cet algorithme a une complexité en O(n), appelée aussi complexité **linéaire**.\n",
    "\n",
    "#### Vérification expérimentale \n",
    "\n",
    "Observons expérimentalement complexité linéaire de cet algorithme.<br>\n",
    "Pour cela, Python permet l'utilisation de la fonction magique `%timeit`, qui mesure le temps moyen d'un code sur un très grand nombre d'exécutions. \n",
    "<br>\n",
    "\n",
    "<div class ='alert-info'>\n",
    "    \n",
    "**A faire vous-même 2 :**\n",
    "    \n",
    "Tester les instructions suivantes. Comparer les temps obtenus.\n",
    "\n"
   ]
  },
  {
   "cell_type": "code",
   "execution_count": 13,
   "metadata": {},
   "outputs": [
    {
     "name": "stdout",
     "output_type": "stream",
     "text": [
      "8.87 µs ± 550 ns per loop (mean ± std. dev. of 7 runs, 100000 loops each)\n"
     ]
    }
   ],
   "source": [
    "%timeit somme(100)"
   ]
  },
  {
   "cell_type": "markdown",
   "metadata": {},
   "source": [
    "Cela signifie que le temps moyen de l'exécution de somme (100) lors de 100000 exécutions de somme(100) répétés à 7 fois est de l'ordre de $4,66\\times 10^{-6} s$ ± $434 \\times 10^{-9}$s "
   ]
  },
  {
   "cell_type": "code",
   "execution_count": 14,
   "metadata": {},
   "outputs": [
    {
     "name": "stdout",
     "output_type": "stream",
     "text": [
      "100 µs ± 23.9 µs per loop (mean ± std. dev. of 7 runs, 10000 loops each)\n"
     ]
    }
   ],
   "source": [
    "%timeit somme(1000)"
   ]
  },
  {
   "cell_type": "code",
   "execution_count": 15,
   "metadata": {},
   "outputs": [
    {
     "name": "stdout",
     "output_type": "stream",
     "text": [
      "1.04 ms ± 426 µs per loop (mean ± std. dev. of 7 runs, 1000 loops each)\n"
     ]
    }
   ],
   "source": [
    "%timeit somme(10000)"
   ]
  },
  {
   "cell_type": "markdown",
   "metadata": {},
   "source": [
    "*Réponse* : On constate que lorsque $n$ est 10 fois plus grand, le temps d'exécution est environ 10 fois plus important.<br>\n",
    "Lorsque $n$ est 100 fois plus grand, le temps d'exécution est environ 100 fois plus grand.\n",
    "\n",
    "On obtient bien une croissance linéaire du temps d'exécution.<br>\n",
    "On peut visualiser graphiquement cette  complexité linéaire à l'aide du module `time` (pour chronométrer les temps d'exécutions) et la bibliothèque `matplotlib` (pour tracer des courbes).<br>\n",
    "<br>\n",
    "\n",
    "<div class ='alert-info'>\n",
    "    \n",
    "**A faire vous-même 3 :**\n",
    "    \n",
    "Analyser le code suivant et tester le programme plusieurs fois. \n",
    "    <br>Que pensez-vous du nuage de points obtenu ?"
   ]
  },
  {
   "cell_type": "code",
   "execution_count": 16,
   "metadata": {},
   "outputs": [
    {
     "data": {
      "image/png": "[encoded data removed]",
      "text/plain": [
       "<Figure size 432x288 with 1 Axes>"
      ]
     },
     "metadata": {
      "needs_background": "light"
     },
     "output_type": "display_data"
    }
   ],
   "source": [
    "from time import time\n",
    "import matplotlib.pyplot as plt\n",
    "\n",
    "val_n=[i for i in range(100000,10000000,500000)]  #tableau des valeurs de n de 500 à 20000 inclus par pas de 500\n",
    "tps=[] # tableau des temps de calcul de somme(n) correspondants\n",
    "\n",
    "for n in val_n :\n",
    "    t1 = time() # On lance le chronomètre\n",
    "    somme(n)\n",
    "    t2 = time()  # On arrête le chronomètre\n",
    "    tps.append (t2-t1) # On ajoute la durée de calcul de somme(n)\n",
    "\n",
    "plt.plot(val_n,tps,'bo',label='somme(n)')  #nuage de point o en bleu\n",
    "plt.legend(loc='lower right') # pour afficher l' étiquette en bas à droite\n",
    "plt.xlabel(\"valeur de n : nombre d'itération de la boucle for\")\n",
    "plt.ylabel('Temps de calculs (s)')\n",
    "plt.title('Algorithme de complexité linéaire T(n)=O(n)')\n",
    "plt.grid() #pour afficher la grille\n",
    "plt.show()"
   ]
  },
  {
   "cell_type": "markdown",
   "metadata": {},
   "source": [
    "Réponse : Le tracé de la complexité temporelle en fonction de la valeur n donne un nuage de poins proche d'une droite.\n",
    "\n",
    "**Remarque :** Les légers écarts à la linéarité peuvent s'expliquer par le fait que les durée mesurées grâce au module `time` étant faibles, celles-ci sont assez imprécises."
   ]
  },
  {
   "cell_type": "markdown",
   "metadata": {},
   "source": [
    "<div class ='alert-info'>\n",
    "    \n",
    "**A faire vous-même 4 :**\n",
    "\n",
    "Déterminer la complexité de l'algorithme permettant de déterminer la moyenne des valeurs d'un tableau.<br>\n",
    "On donne le programme ci-dessous en Python.\n",
    "    \n"
   ]
  },
  {
   "cell_type": "code",
   "execution_count": 17,
   "metadata": {},
   "outputs": [],
   "source": [
    "def moyenne(tab):\n",
    "    somme = 0\n",
    "    n = len(tab)\n",
    "    for val in tab :\n",
    "        somme += val\n",
    "    return somme/n"
   ]
  },
  {
   "cell_type": "markdown",
   "metadata": {},
   "source": [
    "Réponse : On trouve $C(n)=2n+4 =O(n)$"
   ]
  },
  {
   "cell_type": "markdown",
   "metadata": {},
   "source": [
    "### c) Exemple d'un algorithme de complexité quadratique (en $O(n^2)$)\n",
    "\n",
    "Soit le programme ci-dessous:"
   ]
  },
  {
   "cell_type": "code",
   "execution_count": 18,
   "metadata": {},
   "outputs": [
    {
     "data": {
      "text/plain": [
       "25"
      ]
     },
     "execution_count": 18,
     "metadata": {},
     "output_type": "execute_result"
    }
   ],
   "source": [
    "def somme2 (n):\n",
    "    cpt=0\n",
    "    for i in range (n):\n",
    "        for j in range (n) :\n",
    "            cpt = cpt + 1\n",
    "    return cpt\n",
    "somme2(5)"
   ]
  },
  {
   "cell_type": "markdown",
   "metadata": {},
   "source": [
    "<div class ='alert-info'>\n",
    "    \n",
    "**A faire vous-même 5 :**\n",
    "    \n",
    "Que renvoie `somme2(n)` ? Justifier en complétant les pointillés mettant en évidence un invariant de boucle :"
   ]
  },
  {
   "cell_type": "code",
   "execution_count": 33,
   "metadata": {},
   "outputs": [],
   "source": [
    "def somme2 (n):\n",
    "    cpt=0\n",
    "    for i in range (n):\n",
    "        assert cpt == i*n  # invariant de boucle pour i variant de 0 à n inclus\n",
    "        for j in range (n) :\n",
    "            cpt = cpt + 1\n",
    "    assert cpt == n**2  # résultat attendu renvoyé par l'algorithme\n",
    "    return cpt\n",
    "\n",
    "assert somme2(5) == 25"
   ]
  },
  {
   "cell_type": "markdown",
   "metadata": {},
   "source": [
    "Notons $C(n)$ le nombre d'opérations élémentaires de cet algorithme implémenté en Python (sans les `assert`).\n",
    "\n",
    "Lorque l'on fait un appel à la fonction `somme` :\n",
    "à la ligne 2, on effectue une opération élémentaire (affectation);\n",
    "à la ligne 5, pour chaque tour de boucle de la 1ere bocle`for,`on répète $n$ fois l'instruction `cpt = cpt + 1` qui contient 2 opérations élémentaires : une affectation et une addition, soit en tout $2n$ opérations élémentaires.<br>\n",
    "Et donc en sortie de la première boucle for, l'instruction `cpt = cpt + 1`  aura été répété $n\\times 2n=2n^2$ fois.<br>\n",
    "Enfin, à la ligne 6, on a une opération élémentaire (appel de la varible cpt).\n",
    "\n",
    "Ainsi, on obtient $C(n)= 2n^2+1$\n",
    "\n",
    "En utilisant la notation de Landau, on peut écrire  que $C(n)=O(n^2)$ car $C(n)$ est majorée par \"une constante fois $n^2$\" lorsque $n$ devient très grand.\n",
    "<br>\n",
    "<br>\n",
    "<div class='alert-info'>\n",
    "    \n",
    "On dit alors que cet algorithme a une complexité en O(n), appelée aussi complexité **quadratique**.\n",
    "</div>\n",
    "\n",
    "#### Vérification expérimentale \n",
    "\n",
    "Observons expérimentalement complexité quadratique de cet algorithme.<br>\n",
    "Utilisons de nouveau la fonction magique `%timeit`, qui mesure le temps moyen d'un code sur un très grand nombre d'exécutions. \n",
    "<br>\n",
    "<br>\n",
    "\n",
    "<div class ='alert-info'>\n",
    "    \n",
    "**A faire vous-même 6 :**\n",
    "    \n",
    "Tester les instructions suivantes. Comparer les temps obtenus.\n",
    "\n"
   ]
  },
  {
   "cell_type": "code",
   "execution_count": 20,
   "metadata": {},
   "outputs": [
    {
     "name": "stdout",
     "output_type": "stream",
     "text": [
      "11.9 µs ± 3.33 µs per loop (mean ± std. dev. of 7 runs, 100000 loops each)\n"
     ]
    }
   ],
   "source": [
    "%timeit somme2(10)\n"
   ]
  },
  {
   "cell_type": "code",
   "execution_count": 21,
   "metadata": {},
   "outputs": [
    {
     "name": "stdout",
     "output_type": "stream",
     "text": [
      "975 µs ± 201 µs per loop (mean ± std. dev. of 7 runs, 1000 loops each)\n"
     ]
    }
   ],
   "source": [
    "%timeit somme2(100)"
   ]
  },
  {
   "cell_type": "code",
   "execution_count": 22,
   "metadata": {},
   "outputs": [
    {
     "name": "stdout",
     "output_type": "stream",
     "text": [
      "116 ms ± 38.8 ms per loop (mean ± std. dev. of 7 runs, 10 loops each)\n"
     ]
    }
   ],
   "source": [
    "%timeit somme2(1000)"
   ]
  },
  {
   "cell_type": "markdown",
   "metadata": {},
   "source": [
    "*Réponse :* On constate que lorsque $n$ est 10 fois plus grand, le temps d'exécution est environ $10^2=100$ fois plus important.<br>\n",
    "Lorsque $n$ est 100 fois plus grand, le temps d'exécution est environ $100^2=10000$ fois plus grand.\n",
    "\n",
    "On obtient bien une croissance quadratique du temps d'exécution.<br>\n",
    "On peut visualiser graphiquement cette  complexité quadratique  en raisonnant de la même façon que dans l'exemple précédent.\n",
    "\n",
    "<br>\n",
    "<br>\n",
    "\n",
    "<div class ='alert-info'>\n",
    "    \n",
    "**A faire vous-même 7 :**\n",
    "    \n",
    "Analyser le code suivant et tester le programme plusieurs fois. \n",
    "    <br>Que pensez-vous du nuage de points obtenu ?"
   ]
  },
  {
   "cell_type": "code",
   "execution_count": 23,
   "metadata": {},
   "outputs": [
    {
     "data": {
      "image/png": "[encoded data removed]",
      "text/plain": [
       "<Figure size 432x288 with 1 Axes>"
      ]
     },
     "metadata": {
      "needs_background": "light"
     },
     "output_type": "display_data"
    }
   ],
   "source": [
    "val_n=[i for i in range(0,3100,100)]  #tableau des valeurs de n de 0 à 3000 inclus par pas de 100\n",
    "tps=[] # tableau des temps de calcul de somme(n) correspondants\n",
    "\n",
    "for n in val_n :\n",
    "    t1 = time() # On lance le chronomètre\n",
    "    somme2(n)\n",
    "    t2 = time()  # On arrête le chronomètre\n",
    "    tps.append (t2-t1) # On ajoute la durée de calcul de somme2(n)\n",
    "\n",
    "plt.plot(val_n,tps,'r.',label='somme2(n)')  #nuage de points . en rouge\n",
    "plt.legend(loc='lower right') # pour afficher l' étiquette en bas à droite\n",
    "plt.xlabel(\"valeur de n \")\n",
    "plt.ylabel('Temps de calculs (s)')\n",
    "plt.title('Algorithme de complexité quadratique T(n)=O($n^2$)')\n",
    "plt.grid() #pour afficher la grille\n",
    "plt.show()"
   ]
  },
  {
   "cell_type": "markdown",
   "metadata": {},
   "source": [
    "*Réponse :* On  obtient un nuage de points proche d'une parabole."
   ]
  },
  {
   "cell_type": "markdown",
   "metadata": {},
   "source": [
    "### III.3 Comparaison des différentes complexités"
   ]
  },
  {
   "attachments": {
    "image.png": {
     "image/png": "[encoded data removed]"
    }
   },
   "cell_type": "markdown",
   "metadata": {},
   "source": [
    "<div class='alert-info'>\n",
    "\n",
    "**N.B. :** Pour des algorithmes de complexité à temps constant, linéaire ou quadratique, pour un problème de taille $n=10^5$ sur un oridnateur effectuant une opération élémentaire en $10^{-9}$s, on donne ci-dessous un ordre de grandeur des temps d'exécution rencontrés :\n",
    "![image.png](attachment:image.png)\n",
    "    <br>\n",
    "    </div>\n",
    "\n",
    "Observons graphiquement cela en exécutant le programme ci-dessous"
   ]
  },
  {
   "cell_type": "code",
   "execution_count": 25,
   "metadata": {},
   "outputs": [
    {
     "data": {
      "image/png": "[encoded data removed]",
      "text/plain": [
       "<Figure size 432x288 with 1 Axes>"
      ]
     },
     "metadata": {
      "needs_background": "light"
     },
     "output_type": "display_data"
    }
   ],
   "source": [
    "val_n=[i for i in range(0,3100,100)]  #tableau des valeurs de n de 0 à 3000 inclus par pas de 100\n",
    "tps=[] # tableau des temps de calcul de somme(n) correspondants\n",
    "tps2=[] # tableau des temps de calcul de somme2(n) correspondants\n",
    "\n",
    "for n in val_n :\n",
    "    t1 = time() # On lance le chronomètre\n",
    "    somme(n)\n",
    "    t2 = time()  # On arrête le chronomètre\n",
    "    tps.append (t2-t1) # On ajoute la durée de calcul de somme(n)\n",
    "\n",
    "    \n",
    "for n in val_n :\n",
    "    t1 = time() # On lance le chronomètre\n",
    "    somme2(n)\n",
    "    t2 = time()  # On arrête le chronomètre\n",
    "    tps2.append (t2-t1) # On ajoute la durée de calcul de somme(n)\n",
    "\n",
    "plt.plot(val_n,tps,'bo',label='O(n)')  #nuage de points o en bleu\n",
    "plt.plot(val_n,tps2,'r.',label='O($n^2$)')  #nuage de points . en rouge\n",
    "plt.legend() # pour afficher l' étiquette \n",
    "plt.xlabel(\"valeur de n \")\n",
    "plt.ylabel('Temps de calculs (s)')\n",
    "plt.title('Comparaison de temps de calcul')\n",
    "plt.grid() #pour afficher la grille\n",
    "plt.show()"
   ]
  },
  {
   "cell_type": "markdown",
   "metadata": {},
   "source": [
    "**Remarque :** En observant le graphique ci-dessus, on constate que pour les complexités à temps constant ou linéaires, le temps d'exécution est quasi instantané.<br>\n",
    "Pour une complexité quadratique, les problèmes de taille $n>10^5$ deviennent assez long à traiter (de l'ordre de 15 min pour $n>10^6$).\n",
    "<br>\n",
    "<br>\n",
    "\n",
    "<div class='alert-info'>\n",
    "    \n",
    "**A faire vous-même 8 (QCM) :** \n",
    "\n",
    "Répondre aux 10 questions du  QCM en cliquant [ici](https://genumsi.inria.fr/qcm.php?h=343c2dfe11660539461c2245e8de0194)"
   ]
  },
  {
   "cell_type": "markdown",
   "metadata": {},
   "source": [
    "### III.4 Complexité dans le meilleur des cas, dans le pire des cas, complexité moyenne\n",
    "\n"
   ]
  },
  {
   "cell_type": "markdown",
   "metadata": {},
   "source": [
    "Considérons l'algorithme de recherche séquentielle (par balayayage) d'un élément $x$ dans un tableau non trié.<br>\n",
    "Cet algorithme renvoie `True` si $x$ est une valeur du tableau, `False` sinon."
   ]
  },
  {
   "cell_type": "code",
   "execution_count": 27,
   "metadata": {},
   "outputs": [],
   "source": [
    "def recherche (x, tab):\n",
    "    for val in tab :\n",
    "        if val == x :\n",
    "            return True\n",
    "    return False\n",
    "\n",
    "tab = [5, 2, 8]\n",
    "assert recherche(2, tab)\n",
    "assert not recherche(10, tab)\n",
    "        \n",
    "    "
   ]
  },
  {
   "cell_type": "markdown",
   "metadata": {},
   "source": [
    "Notons $n$ la longueur (ou la taille) du tableau `tab`.\n",
    "\n",
    "Dans **le meilleur des cas**, la valeur $x$ se trouve en première position du tableau et donc la boucle for est parcourue une seule fois.<br>\n",
    "La complexité est alors constante en $O(1)$.\n",
    "\n",
    "Dans **le pire des cas**, la valeur $x$ ne se trouve pas dans le tableau et donc la boucle for est parcourue $n$ fois.\n",
    "La complexité est alors linéaire en $O(n)$.\n",
    "\n",
    "La **complexité moyenne** est la moyenne du coût temporel lorsque l'on exécute un grand nombre de fois la fonction `recherche(x,tab)` pour des valeurs de $x$ et de `tab` **aléatoires**.\n",
    "<br>\n",
    "<br>\n",
    "<div class='alert-danger'>\n",
    "    \n",
    "**Remarque importante:** La complexité temporelle moyenne d'un algorithme est la plus fiable pour mesurer la performance en temps de celui-ci.<br>\n",
    "Malheureusement, très souvent, il est très difficile de la déterminer. Ici, on pourrait montrer que la complexité moyenne de cet algorithme est en $O(n)$.\n",
    "    \n",
    "C'est pourquoi, on utilisera la complexité dans le pire des cas (qui elle se calcule plus facilement) pour mesurer la performance en temps de l'algorithme considéré."
   ]
  },
  {
   "cell_type": "markdown",
   "metadata": {},
   "source": [
    "<div class='alert-info'>\n",
    "    \n",
    "**A faire vous-même 9 :** \n",
    "    \n",
    "Transformer l'algorithme de recherche séquentielle (par balayage) d'un élément $x$ dans un tableau, de telle façon qu'il renvoie:\n",
    "    - l'indice du tableau si $x$ est dans le tableau;\n",
    "    - False sinon\n",
    "<br>\n",
    "On écrira deux programmes, l'un à l'aide d'une boucle <code>for</code>, l'autre avec une boucle <code>while</code>.\n",
    "   </div>\n",
    "\n",
    "\n",
    "\n"
   ]
  },
  {
   "cell_type": "code",
   "execution_count": 31,
   "metadata": {},
   "outputs": [],
   "source": [
    "def recherche1(x, tab):\n",
    "    n = len(tab)\n",
    "    for i in range(n) :\n",
    "        if x == tab[i] :\n",
    "            return i\n",
    "    return False\n",
    "\n",
    "\n",
    "tab = [5, 2, 8]\n",
    "assert recherche1(2, tab) == 1\n",
    "assert not recherche1(10, tab) "
   ]
  },
  {
   "cell_type": "code",
   "execution_count": 32,
   "metadata": {},
   "outputs": [],
   "source": [
    "def recherche2(x, tab):\n",
    "    n = len(tab)\n",
    "    i = 0\n",
    "    while  i < n and x != tab[i]:\n",
    "        i += 1\n",
    "    if i < n :\n",
    "        return i\n",
    "    else :\n",
    "        return False\n",
    "     \n",
    "\n",
    "tab = [5, 2, 8]\n",
    "assert recherche2(2, tab) == 1\n",
    "assert not recherche2(10, tab) "
   ]
  },
  {
   "cell_type": "code",
   "execution_count": null,
   "metadata": {},
   "outputs": [],
   "source": []
  }
 ],
 "metadata": {
  "kernelspec": {
   "display_name": "Python 3",
   "language": "python",
   "name": "python3"
  },
  "language_info": {
   "codemirror_mode": {
    "name": "ipython",
    "version": 3
   },
   "file_extension": ".py",
   "mimetype": "text/x-python",
   "name": "python",
   "nbconvert_exporter": "python",
   "pygments_lexer": "ipython3",
   "version": "3.7.6"
  }
 },
 "nbformat": 4,
 "nbformat_minor": 4
}
