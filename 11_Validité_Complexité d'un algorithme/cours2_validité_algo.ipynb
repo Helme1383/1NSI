{
 "cells": [
  {
   "cell_type": "markdown",
   "metadata": {},
   "source": [
    "# II. Validité d'un algorithme\n",
    "\n",
    "## II.1 Définition\n",
    "<br>\n",
    "<div class='alert-info'>\n",
    "    \n",
    "**N.B. :** Par définition, on sait qu'un algorithme doit résoudre un problème en un nombre fini d'étapes.\n",
    "\n",
    "Deux conditions sont donc à vérifier :\n",
    "    \n",
    "    Quelque soit les valeurs en entrée :\n",
    "       - L'algorithme doit s'arrêter en donnant une réponse : c'est l'étude de la terminaison;\n",
    "       - la réponse donnée doit être le résultat attendu  : c'est l'étude de la correction.\n",
    "\n",
    "Si ces deux conditions sont vérifiées, on dit que l'algorithme est **valide** (ou correct).\n",
    "    </div>\n",
    "    \n",
    "**Remarque :** Cette année, on a étudié des algorithmes utilisant des boucles (``for`` ou ``while``).<br>\n",
    "Ce type d'algorithme est appelé algorithme **itératif.**<br>\n",
    "L'année prochaine, en terminale, on étudiera un autre type d'algorithmes appelé algorithme **récursif** : c'est un algorithme qui fait appel à lui-même.\n",
    "\n",
    "\n",
    "## II.2 Terminaison d'un algorithme (itératif)\n",
    "<br>\n",
    "<br>\n",
    "<div class='alert-info'>\n",
    "    \n",
    "**N.B. :** Un algorithme itératif étant construit à partir de boucles, pour étudier sa terminaison, <br>\n",
    "    on va distinguer le boucles de type `for` et les boucles de type `while`\n",
    "     </div>\n",
    "\n",
    "### a) Algorithmes contenant des boucles `for`\n",
    "\n",
    "Avec les boucles de type for le nombre de tours de boucle, appelés nombre d'**itérations**, est explicitement défini.<br>\n",
    "La sortie de boucle est donc certaine, à l'issue du parcours d'un nombre initialement fixé de valeurs.<br>\n",
    "Ainsi on sait que l'algorithme va s'arrêter (en un nombre fini d'étapes) et la terminaison est automatiquement assurée.\n",
    "\n",
    "**Exemple :** L'algoritme ci-dessous,implémenté en Python, permettant de calculer la somme des entiers de 1 à 100, va s'arrêter au bout de la 100eme itération. \n",
    "    \n",
    "\n",
    "\n",
    "\n",
    "\n",
    "\n",
    "\n"
   ]
  },
  {
   "cell_type": "code",
   "execution_count": null,
   "metadata": {},
   "outputs": [],
   "source": [
    "somme = 0\n",
    "for i in range (1,101):\n",
    "    somme += i\n",
    "    print (i, somme)\n"
   ]
  },
  {
   "cell_type": "markdown",
   "metadata": {},
   "source": [
    "<div class='alert-info'>\n",
    "    \n",
    "**Remarque et vocabulaire :** De façon plus générale, pour prouver la terminaison d'un algorithme i.e qu'un programme s'arrête , on choisit une variable et on vérifie que la suite formée par les valeurs de cette variable au cours des itérations converge en un nombre fini d'étapes vers une valeur satisfaisant la condition d'arrêt. <br>\n",
    "Cette variable s’appelle un **variant de boucle.**\n",
    "    </div>\n",
    "\n",
    "Il est clair que pour une boucle for, la terminaison est assurée et donc que l'on a pas besoin d'un variant de boucle pour justifier la terminaison. <br>\n",
    "On peut néanmoins préciser que dans le programme ci-dessus, le variant de boucle est la variable `i` (qui converge en 100 étapes vers la condition d'arrêt qui est 100 ici)\n",
    "<br>\n",
    "<br>\n",
    "\n",
    "<div class='alert-danger'>\n",
    "    \n",
    "Cette notion de variant de boucle va être par contre indispensable pour justifier la terminaison d'un algorithme utilisant la boucle `while`.\n",
    "    </div>\n",
    "  \n",
    "  \n",
    "### b) Algorithmes contenant des boucles `while`\n",
    "<br>\n",
    "<br>\n",
    "<div class='alert-info'>\n",
    "    \n",
    "**N.B. :** Contrairement à la boucle `for`, on ne connaît pas à l'avance le nombre d'itérations peut être indéterminé avec une boucle `while` .<br>\n",
    "Le nombre d'itération étant indéterminé, il existe même un risque que l'algorithme\n",
    "ne se termine jamais s'il est mal conçu ou mal programmé.\n",
    "    </div>\n",
    "<br>\n",
    "<br>\n",
    "\n",
    "<div class='alert-info'>\n",
    "    \n",
    "**A faire vous-même 1 :**\n",
    "\n",
    " On présente ci-dessous deux algorithmes implémentés en Python.<br>\n",
    " Précisez la condition d'arrêt ainsi que le variant de boucle de ces deux algorithmes puis expliquez pourquoi le programme 1 s'arrête et tandis que le programme  2 ne s'arrête jamais.\n",
    "\n"
   ]
  },
  {
   "cell_type": "code",
   "execution_count": null,
   "metadata": {},
   "outputs": [],
   "source": [
    "# Programme 1 :\n",
    "i = 0\n",
    "while i!=11 :\n",
    "    print(i)\n",
    "    i = i+1  #Le variant de boucle i augmente de 1 à chaque tour de boucle donc atteint la condition d'arrêt i==11 au bout \n",
    "    # d'un nombre fini d'étapes. Donc la terminaison est démontrée"
   ]
  },
  {
   "cell_type": "code",
   "execution_count": null,
   "metadata": {},
   "outputs": [],
   "source": [
    "# Programme 2\n",
    "i = 0\n",
    "while i!=11 :\n",
    "    print(i)\n",
    "    i = i+2 # Le variant de boucle i, en augmentant de 2 à chaque tour de boucle, ne prend que des valeurs paires, \n",
    "    #donc n'atteint jamais la condition d'arrêt i==11."
   ]
  },
  {
   "cell_type": "markdown",
   "metadata": {},
   "source": [
    "<div class='alert-info'>\n",
    "    \n",
    "**A faire vous-même 2 (Conjecture de Collatz/Syracuse):**\n",
    "    \n",
    "1. Implémenter en Python la fonction `syracuse` d'argument un entier naturel `n` exécutant l'algorithme suivant écrit en pseudo-code (simplifié) : </div>\n",
    "\n",
    "$\\bullet$ Tant que $n\\neq 1$ faire <br>\n",
    "$\\qquad$ si $n$ est pair, faire $n\\leftarrow \\frac{n}{2}$ <br>\n",
    "$\\qquad$ sinon faire $n\\leftarrow 3\\times n+1$<br>\n",
    "$\\bullet$ Renvoyer le nombre d'itérations ainsi que la suite des valeurs de $n$   \n",
    "<br>\n",
    "<br>\n",
    "\n",
    "<div class='alert-info'>\n",
    "2. Tester cette fonction avec de multiples valeurs de $n$. Que pensez-vous de la terminaison de cet algorithme ?\n",
    "    \n",
    "   \n",
    "    \n",
    "\n",
    "    "
   ]
  },
  {
   "cell_type": "code",
   "execution_count": null,
   "metadata": {},
   "outputs": [],
   "source": [
    "def syracuse(n):  #n est un entier naturel non nul\n",
    "    i=0\n",
    "    L = []\n",
    "    while n != 1 :\n",
    "        if n % 2 == 0 :  \n",
    "            n = n // 2\n",
    "        else :\n",
    "            n = 3*n + 1\n",
    "        i += 1\n",
    "        L.append(n)\n",
    "    return i,L\n",
    "\n",
    "syracuse(89663333222336655269574115698423512)"
   ]
  },
  {
   "cell_type": "markdown",
   "metadata": {},
   "source": [
    "**Culture :** \n",
    "La conjecture de Syracuse, encore appelée conjecture de Collatz est l'hypothèse mathématique selon laquelle la suite des nombres obtenus à partir de cet algorithme atteint toujours la valeur 1 quelque soit la valeur d'entrée.<br>\n",
    "Autrement dit, la conjecture de Syracuse est l'hypothèse que cet algorithme admet une terminaison.\n",
    "\n",
    "Ce qui est magique avec cette conjecture est sa simplicité apparente, et pourtant la démonstration de cette dernière résiste depuis des siècles aux plus grands mathématiciens du monde ! \n",
    "Certains avancent même que le problème serait indécidable.\n",
    "\n",
    "Le mathématicien hongrois Paul Erdős (1913-1996) célèbre pour ses conjectures  a dit à propos de la conjecture de Syracuse :\n",
    "\n",
    "\"les mathématiques ne sont pas encore prêtes pour de tels problèmes\""
   ]
  },
  {
   "cell_type": "markdown",
   "metadata": {},
   "source": [
    "<div class='alert-info'>\n",
    "    \n",
    "**A faire vous-même 3 :**\n",
    "<br>\n",
    "Justifier la terminaison de l'algorithme d'Euclide implémenté en Python ci-dessous en précisant la variant de boucle\n",
    "    "
   ]
  },
  {
   "cell_type": "code",
   "execution_count": null,
   "metadata": {},
   "outputs": [],
   "source": [
    "def pgcd(a,b):\n",
    "    while b != 0:\n",
    "        r = a % b\n",
    "        a = b\n",
    "        b = r\n",
    "    return a"
   ]
  },
  {
   "cell_type": "markdown",
   "metadata": {},
   "source": [
    "Réponse : b est le variant de boucle et b décroit strictement à chaque tour de boucle et est minoré par 0, donc atteint la valeur 0 en un nombre fini d'étapes"
   ]
  },
  {
   "cell_type": "markdown",
   "metadata": {},
   "source": [
    "## II.3 Correction d'un algorithme (itératif)\n",
    "<br>\n",
    "<div class='alert-info'>\n",
    "\n",
    "**Rappel :** On a vu que démontrer la correction d'un algorithme consiste à démontrer que l'algorithme fait bien ce que l'on attend de lui : c'est-à-dire qu'il renvoie le résultat escompté.\n",
    "    \n",
    "**N.B. :** Pour démontrer la correction d'un algorithme itératif, on utilisera en général un **invariant de boucle**.<br>\n",
    "Un invariant de boucle  est une proposition qui est vraie avant et après chaque tour de boucle.\n",
    "\n",
    "Pour prouver qu'une proposition est un invariant de boucle, on utilise un raisonnement, appelé __raisonnement par récurrence__ (que vous étudierez l'année prochaine en Terminale Spécialité Mathémathiques) qui se fait en trois étapes :\n",
    "    - Initialisation : On vérifie que la proposition est vraie avant le premier tour de boucle;\n",
    "    - Hérédité : On suppose que la proposition est vraie à un certain tour de boucle, et on démontre qu'elle restre vrai au tour suivant;\n",
    "    - Conclusion : La proposition est bien un invariant de boucle, et en considérant le dernier tour de boucle, on prouve la correction de l'algorithme.\n",
    "<br>\n",
    "</div>\n",
    "\n",
    "**Exemple :** On considère l'algorithme ci-dessous implémenté en Python pemettant de déterminer le minimum des valeurs d'un tableau :"
   ]
  },
  {
   "cell_type": "code",
   "execution_count": null,
   "metadata": {},
   "outputs": [],
   "source": [
    "def minimum(tab):\n",
    "    min= tab[0]\n",
    "    for val in tab :\n",
    "        if val < min :\n",
    "            min = val\n",
    "    return min "
   ]
  },
  {
   "cell_type": "markdown",
   "metadata": {},
   "source": [
    "Il est clair que la terminaison est assurée car l'algorithme contient une seule boucle `for`.\n",
    "\n",
    "Montrons désormais la correction de cet algorithme à l'aide d'un invariant de boucle.\n",
    "\n",
    "Pour $i\\in \\{ 0,1, ..., n-1\\}$ montrons par récurrence que la proposition $P(i)$ : \"`min` est le minimum du tableau `[tab[0], tab[1], ..., tab[i]]`\" est un invariant de boucle.\n",
    "\n",
    "- **Initialisation :** $P(0)$ est vraie car pour $i=0$, `mini = tab[0]` et `mini` est le minimum du tableau constitué par l'unique valeur `[tab[0]]`.\n",
    "\n",
    "\n",
    "- **Hérédité :** Supposons que la proposition $P(i)$ soit vraie pour $i\\in\\{0,1,...,n-1\\}$ \n",
    "Montrons que $P(i+1)$ est vraie.\n",
    "Comme $P(i)$ est vrai, au tour de boucle n°i, `min` est la valeur minimale de `[tab[0], tab[1], ..., tab[i]]`.<br>\n",
    "Au tour de boucle `i+1`, `val` prend la valeur `tab[i+1]` et la boucle effectue la comparaison :<br>\n",
    "`if tab[i+1] < mini :\n",
    "       min = tab [i+1]`\n",
    "Que la condition soit vérifiée ou pas, dans les deux cas,  `min` reste la valeur minimale de `[tab[0], tab[1], ..., tab[i], tab[i+1]]`.<br>\n",
    "Ainsi $P(i+1)$ est vraie.\n",
    "\n",
    "\n",
    "- **Conclusion :** $P(i)$ est vraie pour tout $i\\in\\{0,1,...,n-1\\}$. Donc $P(i)$ est un invariant de boucle et pour `i = n-1`, on a `min`est la valeur minimale de `[tab[0], tab[1], ..., tab[n-1]]`, ce qui prouve la correction de l'algorithme.\n",
    "\n",
    "Ainsi, l'algorithme est bien valide."
   ]
  },
  {
   "cell_type": "markdown",
   "metadata": {},
   "source": [
    "<div class='alert-info'>\n",
    "    \n",
    "**A faire vous-même 4 :**\n",
    "    \n",
    "On considère la suite $(u_n)$ définie sur $\\mathbb N$ par $u_0=0$ et pour tout $n\\in\\mathbb N$, $u_{n+1}= 2u_n+1$.<br>\n",
    "On considère l'algorithme implémenté en Python qui renvoie le terme $u_n$ de la suite $u$.\n"
   ]
  },
  {
   "cell_type": "code",
   "execution_count": null,
   "metadata": {},
   "outputs": [],
   "source": [
    "def suite(n):\n",
    "    u = 0\n",
    "    i = 0\n",
    "    while i < n :\n",
    "        u = 2*u + 1\n",
    "        i += 1\n",
    "    return u"
   ]
  },
  {
   "cell_type": "markdown",
   "metadata": {},
   "source": [
    "<div class='alert-info'>\n",
    "    \n",
    "1. Montrer la terminaison de cet algorithme à l'aide d'un variant de boucle.\n",
    "<br>\n",
    "2. Montrer la correction de cet algorithme à l'aide d'un invariant de boucle."
   ]
  },
  {
   "cell_type": "markdown",
   "metadata": {},
   "source": [
    "Réponse :\n",
    "1. Le variant de boucle i est strictement croissant car augmente de 1 à chaque tour de bocle donc atteint la condition d'arrêt i= n en un nombre fini d'étapes, ce qui assure la terminaison de l'algorithme.\n",
    "<br>\n",
    "<br>\n",
    "2. On montre par récurrence que l'invariant de boucle est $P(i)$ : u prend la valeur $u_i$ pour $i\\in\\{0,1,...n\\}$<br>\n",
    "<br>\n",
    "Initialisation : Pour i=0 i.e avant le 1er tour de boucle, u prend la valeur 0 i.e $u_0$.\n",
    "<br>\n",
    "<br>\n",
    "Hérédité :On suppose que $P(i)$ est vraie pour un $i\\in\\{0,1,...n-1\\}$\n",
    "Au tour de boucle n° i+1, u prend la valeur $2\\times u +1 $ qui est bien égal à $u_{i+1}$ par définition.<br>\n",
    "Donc $P(i+1)$ est vraie.\n",
    "<br>\n",
    "<br>\n",
    "Conclusion : ..., et donc $P(i)$ pour $i\\in\\{0,1,...n\\}$ est bien un invariant de boucle...\n",
    "    "
   ]
  },
  {
   "cell_type": "markdown",
   "metadata": {},
   "source": [
    "**Remarque :** On peut mettre en évidence l'invariant de boucle avec l'instruction `assert` de Python.<br>\n",
    "<br>\n",
    "\n",
    "<div class='alert-info'>\n",
    "    \n",
    "**A faire vous-même 5 : (L'algorithme d'exponentiation)**\n",
    "    \n",
    "**N.B. :** L'algorithme d'exponentiation permet de calculer une puissance d'un nombre à l'aide d'une boucle `for`.\n",
    "    \n",
    "Ci-dessous, on va considérer l'algorithme d'exponentiation permettant de calculer $2^n$.\n",
    "    \n",
    "Compléter les pointillés suivants mettant en évidence l'invariant de boucle de l'algorithme d'exponentiation :\n",
    "    "
   ]
  },
  {
   "cell_type": "code",
   "execution_count": 2,
   "metadata": {},
   "outputs": [],
   "source": [
    "def expo (n):\n",
    "    p = 1 \n",
    "    for i in range(n) :\n",
    "        assert p == 2**i # Invariant de boucle pour i variant de 0 à n inclus\n",
    "        p = 2*p\n",
    "    assert p == 2**n # Résultat attendu renvoyé par l'algorithme\n",
    "    return p"
   ]
  },
  {
   "cell_type": "code",
   "execution_count": null,
   "metadata": {},
   "outputs": [],
   "source": []
  }
 ],
 "metadata": {
  "kernelspec": {
   "display_name": "Python 3",
   "language": "python",
   "name": "python3"
  },
  "language_info": {
   "codemirror_mode": {
    "name": "ipython",
    "version": 3
   },
   "file_extension": ".py",
   "mimetype": "text/x-python",
   "name": "python",
   "nbconvert_exporter": "python",
   "pygments_lexer": "ipython3",
   "version": "3.7.6"
  }
 },
 "nbformat": 4,
 "nbformat_minor": 4
}
