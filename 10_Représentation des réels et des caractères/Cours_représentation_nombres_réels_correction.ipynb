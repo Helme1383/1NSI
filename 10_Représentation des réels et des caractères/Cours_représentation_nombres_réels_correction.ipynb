{
 "cells": [
  {
   "cell_type": "markdown",
   "metadata": {},
   "source": [
    "# Représentation des nombres réels - Notion de nombres à virgule flottante\n",
    "<br>\n",
    "<div class='alert-info'>\n",
    "    \n",
    "**Introduction :** Nous avons vu en début d'année comment sont représentés les entiers relatifs (i.e entiers posititifs ou négatifs) au sein d'un ordinateur.<br>\n",
    "Nous allons maintenant voir comment sont représentés les nombres réels.\n",
    "    </div>\n",
    "\n",
    "## I. Représentation de la partie décimale d'un nombre réel : Codage en  binaire à virgule fixe\n",
    "\n",
    "### I.1 Nombres réels en base 10 et en base 2\n",
    "\n",
    "**Rappel :** En notation décimale, les nombres réels  s'écrivent sous la forme d'une partie entière  et d'une partie décimale séparées par une virgule.<br>\n",
    "Par exemple pour le réel 53,184, sa partie entière est 53 et sa partie décimale 0,184. $$\\qquad \\underbrace{53}_{partie\\, entière},\\underbrace{184}_{partie\\, décimale} $$\n",
    "\n",
    "**Remarque :** En base 10, un nombre à virgule flottante  peut toujours s'écrire à l'aide de puissances de 10.<br>\n",
    "Par exemple pour le réel 53,184, $\\qquad (53,184)_{10}=5\\times 10^1+3\\times 10^0+1\\times10^{-1}+8\\times 10^{-2}+4\\times 10^{-3}$<br>\n",
    "On remarque ainsi que la partie décimale 0,184 correspond aux puissances négatives de 10.\n",
    "<br>\n",
    "<br>\n",
    "\n",
    "<div class='alert-info'>\n",
    "    \n",
    "**N.B. :** En informatique, on sait que l'on utilise la base 2 pour représenter les nombres.<br>\n",
    "Et donc par analogie à la base 10, on peut très bien définir des nombres réels en base 2 à l'aide de puissance de 2.<br>\n",
    "La partie décimale correspondra alors aux puissances négatives de 2.\n",
    "</div>\n",
    "\n",
    "**Exemple :** $(110,101)_2=1 \\times 2^2 + 1 \\times2^1 +0 \\times 2^0 + 1 \\times 2^{-1} +0 \\times 2^{-2}+1 \\times 2^{-2} =4+2+0,5+0,125=(6,625)_{10}$ <br>\n",
    "Ce qui peut s'illustrer à l'aide du tableau de conversion suivant : \n",
    "\n",
    "|...|8|4|2|1|0.5|0.25|0.125|...|\n",
    "|:---:|:---:|:---:|:---:|:---:|:---:|:---:|:---:|:---:|\n",
    "|...|$2^3$|$2^2$|$2^1$|$2^0$|$2^{-1}$|$2^{-2}$|$2^{-3}$|...|\n",
    "|...|0|1|1|0,|1|0|1|...|\n",
    "\n",
    "### I.2 Conversion d'un nombre réel de la base 10 à la base 2 : Codage en binaire en virgule fixe\n",
    "<br>\n",
    "Tout commence bien, avec un théorème mathématique rassurant qui va nous permettre de déterminer une façon \"naturelle\" de  coder en binaire tout nombre réel (écrit en base 10).<br>\n",
    "<br>\n",
    "<div class='alert-info'>\n",
    "\n",
    "**Théorème :** Tout  nombre réel peut s'écrire comme une somme de puissances de 2 (puissances positives et négatives). <br>\n",
    "Plus précisément, pour tout réel $x \\in \\mathbb{R}^+$, il existe $p \\in \\mathbb{N}$ et $(a_p,a_{p-1},...,a_0,a_{-1},a_{-2},...)$ tels que $x = \\sum_{i=0}^pa_i2^i+\\sum_{i=1}^{+\\infty}a_{-i}2^{-i}$\n",
    "</div>\n",
    "\n",
    "\n",
    "Écrire un nombre en binaire revient à calculer les coefficients $a_k$ (ils sont égaux à 0 ou 1).<br>\n",
    "Il y en a un nombre fini pour la partie entière, mais un nombre potentiellement **infini** pour la partie décimale, ce qui va poser des problèmes d'erreur d'arrondis que l'on va très rapidement rencontré à travers les prochains exemples.<br>\n",
    "<br>\n",
    "\n",
    "\n",
    "<div class='alert-info'>\n",
    "    \n",
    "**Définition :** Le codage en binaire d'un nombre réel (écrit initialement en base 10) présenté dans le théorème ci-dessus est dit **en virgule fixe** .<br>\n",
    "Dans un codage en virgule fixe :\n",
    "- la partie entière  est codée comme un nombre\n",
    "entier;\n",
    "- la partie décimale est codée par les puissances négatives de 2.\n",
    "</div>\n",
    "\n",
    "### Méthode de conversion\n",
    "Considérons le nombre $(3,6875)_{10}$. Il se décompose en une partie entière (3) et une partie décimale ($0,6875$).\n",
    "\n",
    "- **partie entière :** $(3)_{10}=(11)_2$ (On divise par les divisions euclidiennes successives de 3 par 2 jusqu'à obtenir un quotient nul puis on considère les restes \"en remontant\")\n",
    "- **partie décimale :** la conversion de $0,6875$ se fait en plusieurs étapes : on multiplie par 2  les parties décimales obtenues tant que l'on obtient pas une partie décimale égale à 0 (i.e tant que l'on n'obtient pas l'entier 1).\n",
    "\n",
    "$0,6875 \\times 2 = \\textbf{1},375$  \n",
    "$0,375 \\times 2   = \\textbf{0},75$   \n",
    "$0,75 \\times 2 = \\textbf{1},5$  \n",
    "$0,5 \\times 2 = \\textbf{1},0$  \n",
    "\n",
    "On prend ensuite le chiffre des unités de tous les nombres obtenus : 1011\n",
    "\n",
    "Donc $(3,6875)_{10}=(11,1011)_2$\n",
    "<br>\n",
    "<br>\n",
    "<div class='alert-info'>\n",
    "\n",
    "### A faire vous-même 1 : \n",
    "\n",
    "Donner l'écriture binaire en virgule fixe de $(20,875)_{10}$."
   ]
  },
  {
   "cell_type": "markdown",
   "metadata": {},
   "source": [
    "*correction :*\n",
    "- partie entière : $(20)_{10} = (10100)_2$\n",
    "- partie décimale :\n",
    "    - $0,875 \\times 2 = \\textbf{1},75$  \n",
    "    - $0,75 \\times 2 = \\textbf{1},5 $\n",
    "    - $0,5 \\times 2  = \\textbf{1},0$\n",
    " \n",
    "Donc $(20,875)_{10}=(10100,111)_2$"
   ]
  },
  {
   "cell_type": "markdown",
   "metadata": {},
   "source": [
    "<div class='alert-info'>\n",
    "    \n",
    "### A faire vous-même 2 : \n",
    "\n",
    "Montrer que l'écriture binaire en virgule fixe de $(0,1)_{10}$ est infinie"
   ]
  },
  {
   "cell_type": "markdown",
   "metadata": {},
   "source": [
    " *correction :*\n",
    "- partie entière : $(0)_{10} = (0)_2$\n",
    "- partie décimale :\n",
    "    - $0,1 \\times 2 = \\textbf{0},2$  \n",
    "    - $0,2 \\times 2 = \\textbf{0},4 $\n",
    "    - $0,4 \\times 2  = \\textbf{0},8$\n",
    "    - $0,8 \\times 2 = \\textbf{1},6$  \n",
    "    - $0,6 \\times 2 = \\textbf{1},2$  \n",
    "    - $0,2 \\times 2 = \\textbf{0},4 $ et cela continue indéfiniment.\n",
    " \n",
    "On obtient ainsi une écriture binaire infini  : $(0,1)_{10}=(0,0001100011...)_2=(0,\\overline{00011})_2$ (la barre située au-dessus donne la répétition infinie de cette série de chiffres)"
   ]
  },
  {
   "cell_type": "markdown",
   "metadata": {},
   "source": [
    "<div class='alert-danger'>\n",
    "\n",
    "### Conclusion \n",
    "\n",
    "Certains nombres n'admettent pas une écriture binaire finie. Or la mémoire d'un ordinateur, quelqu'il soit, est toujours *$*finie.** \n",
    "    \n",
    "Ainsi, certains nombres ne peuvent donc pas être représentés correctement en machine : c'est une impossibilité théorique. <br>\n",
    "Cela amène à des comportements étranges (erreurs d'arrondis) que l'on va observer sur des exemples classiques. "
   ]
  },
  {
   "cell_type": "markdown",
   "metadata": {},
   "source": [
    "## II. Conséquence : la difficile manipulation des nombres réels sur un ordinateur\n",
    "\n",
    "### II.1 Quelques exemples classiques"
   ]
  },
  {
   "cell_type": "markdown",
   "metadata": {},
   "source": [
    "**Remarque :** En Python,  on sait que les nombres réels sont du type **float** (flottant en français).<br>\n",
    "    On reviendra sur cette notion dans le paragraphe III."
   ]
  },
  {
   "cell_type": "code",
   "execution_count": 1,
   "metadata": {},
   "outputs": [
    {
     "data": {
      "text/plain": [
       "float"
      ]
     },
     "execution_count": 1,
     "metadata": {},
     "output_type": "execute_result"
    }
   ],
   "source": [
    "type(0.1)"
   ]
  },
  {
   "cell_type": "markdown",
   "metadata": {},
   "source": [
    "<div class='alert-danger'>\n",
    "    \n",
    "**Attention :** Ces flottants sont à manipuler avec une extrême précaution. Il faut garder en tête que les calculs sont potentiellement faux, du moins imprécis, lorsque des flottants interviennent.<br>\n",
    "Voici quelques exemples classiques (à tester) d'imprécision sur le calcul de flottants avec un ordinateur."
   ]
  },
  {
   "cell_type": "code",
   "execution_count": 2,
   "metadata": {},
   "outputs": [
    {
     "data": {
      "text/plain": [
       "0.30000000000000004"
      ]
     },
     "execution_count": 2,
     "metadata": {},
     "output_type": "execute_result"
    }
   ],
   "source": [
    "0.1+0.2"
   ]
  },
  {
   "cell_type": "code",
   "execution_count": 3,
   "metadata": {},
   "outputs": [
    {
     "data": {
      "text/plain": [
       "False"
      ]
     },
     "execution_count": 3,
     "metadata": {},
     "output_type": "execute_result"
    }
   ],
   "source": [
    "0.1+0.2 == 0.3"
   ]
  },
  {
   "cell_type": "code",
   "execution_count": 4,
   "metadata": {},
   "outputs": [
    {
     "data": {
      "text/plain": [
       "-2.7755575615628914e-17"
      ]
     },
     "execution_count": 4,
     "metadata": {},
     "output_type": "execute_result"
    }
   ],
   "source": [
    "0.5-0.2-0.2-0.1"
   ]
  },
  {
   "cell_type": "code",
   "execution_count": 5,
   "metadata": {},
   "outputs": [
    {
     "data": {
      "text/plain": [
       "False"
      ]
     },
     "execution_count": 5,
     "metadata": {},
     "output_type": "execute_result"
    }
   ],
   "source": [
    "0.5-0.2-0.2-0.1 == 0"
   ]
  },
  {
   "cell_type": "markdown",
   "metadata": {},
   "source": [
    "Néanmoins, on peut trouver des exemples où les opérations sur les flottants \"ont l'air\" de fonctionner. <br>\n",
    "Cela peut-être une simple illusion car parfois, les erreurs d'arrondis se compensent!<br>\n",
    "Tester les exemples suivants pour vous en convaincre :"
   ]
  },
  {
   "cell_type": "code",
   "execution_count": 6,
   "metadata": {},
   "outputs": [
    {
     "data": {
      "text/plain": [
       "0.2"
      ]
     },
     "execution_count": 6,
     "metadata": {},
     "output_type": "execute_result"
    }
   ],
   "source": [
    "0.1+0.1\n"
   ]
  },
  {
   "cell_type": "code",
   "execution_count": 7,
   "metadata": {},
   "outputs": [
    {
     "data": {
      "text/plain": [
       "True"
      ]
     },
     "execution_count": 7,
     "metadata": {},
     "output_type": "execute_result"
    }
   ],
   "source": [
    "0.1+0.1==0.2"
   ]
  },
  {
   "cell_type": "code",
   "execution_count": 8,
   "metadata": {},
   "outputs": [
    {
     "data": {
      "text/plain": [
       "False"
      ]
     },
     "execution_count": 8,
     "metadata": {},
     "output_type": "execute_result"
    }
   ],
   "source": [
    "0.1+0.1+0.1 == 0.3"
   ]
  },
  {
   "cell_type": "code",
   "execution_count": 9,
   "metadata": {},
   "outputs": [
    {
     "data": {
      "text/plain": [
       "3.5999999999999996"
      ]
     },
     "execution_count": 9,
     "metadata": {},
     "output_type": "execute_result"
    }
   ],
   "source": [
    "1.2*3"
   ]
  },
  {
   "cell_type": "markdown",
   "metadata": {},
   "source": [
    "En ce qui concerne les propriétés des opérations, l'addition et la multiplication ne sont pas associatives.\n",
    "<br>\n",
    "Tester les exemples ci-dessous pour vous en convaincre."
   ]
  },
  {
   "cell_type": "code",
   "execution_count": 10,
   "metadata": {},
   "outputs": [
    {
     "data": {
      "text/plain": [
       "6.8999999999999995"
      ]
     },
     "execution_count": 10,
     "metadata": {},
     "output_type": "execute_result"
    }
   ],
   "source": [
    "x = 1.5*(3.2 + 1.4)\n",
    "x"
   ]
  },
  {
   "cell_type": "code",
   "execution_count": 11,
   "metadata": {},
   "outputs": [
    {
     "data": {
      "text/plain": [
       "6.9"
      ]
     },
     "execution_count": 11,
     "metadata": {},
     "output_type": "execute_result"
    }
   ],
   "source": [
    "y = 1.5*3.2 + 1.5*1.4\n",
    "y"
   ]
  },
  {
   "cell_type": "code",
   "execution_count": 12,
   "metadata": {},
   "outputs": [
    {
     "data": {
      "text/plain": [
       "False"
      ]
     },
     "execution_count": 12,
     "metadata": {},
     "output_type": "execute_result"
    }
   ],
   "source": [
    "x == y"
   ]
  },
  {
   "cell_type": "markdown",
   "metadata": {},
   "source": [
    "<div class='alert-danger'>\n",
    "    \n",
    "**Conclusion :** Le calcul sur des nombres flottants étant par définition **INEXACT**, on évitera sous peine de surprises désagréables de questionner l'égalité en présence de nombres flottants !<br>\n",
    "Le domaine du calcul flottant est TRES difficile, et prévoir à l'avance le nombre exact de décimales correctes lors d'un résultat de calcul reste réservé aux spécialistes d'Analyse Numérique..."
   ]
  },
  {
   "attachments": {
    "image.png": {
     "image/png": "[encoded data removed]"
    }
   },
   "cell_type": "markdown",
   "metadata": {},
   "source": [
    "#### Un exemple historique célèbre sur les erreurs d'arrondis : Les Antimissiles Patriot \n",
    "Le 25 février 1991, pendant la Guerre du Golfe, une batterie américaine de missiles Patriot, à Dharan (Arabie Saoudite), a échoué dans l'interception d'un missile Scud irakien. <br>\n",
    "Le Scud a frappé un baraquement de l'armée américaine et a tué 28 soldats.<br>\n",
    "La commission d'enquête a conclu à un calcul incorrect du temps de parcours, dû à un problème d'arrondi.\n",
    "![image.png](attachment:image.png)\n",
    "Les nombres étaient représentés en virgule fixe sur 24 bits.<br>\n",
    "Le temps était compté par l'horloge interne du système en 1/10 de seconde.<br>\n",
    "Malheureusement, 1/10 n'a pas d'écriture finie dans le système binaire : En effet, on a vu précédemment que  1/10 = 0,1 (dans le système décimal) = 0,0001100110011001100110011... (dans le système binaire). <br>L'ordinateur de bord arrondissait 1/10 à 24 chiffres, d'où une petite erreur dans le décompte du temps pour chaque 1/10 de seconde.<br> Au moment de l'attaque, la batterie de missile Patriot était allumée depuis environ 100 heures, ce qui avait entraîné une accumulation des erreurs d'arrondi de 0,34 s. <br>\n",
    "Pendant ce temps, un missile Scud parcourt environ 500 m, ce qui explique que l'Antimissile Patriot soit passé à côté de sa cible."
   ]
  },
  {
   "cell_type": "markdown",
   "metadata": {},
   "source": [
    "<div class='alert-info'>\n",
    "\n",
    "### A faire vous-même 3\n",
    "\n",
    "Répondre au QCM disponible en cliquant sur ce lien \n",
    "[QCM](https://genumsi.inria.fr/qcm.php?h=aefca18d1a00d5bddea93ffc96265082)"
   ]
  },
  {
   "cell_type": "markdown",
   "metadata": {},
   "source": [
    "## II. 2 Comment tester que deux flottants sont égaux sur un ordinateur ? \n",
    "<br>\n",
    "\n",
    "<div class='alert-info'>\n",
    "    \n",
    "**Remarque :** D'après ce qui précède, la fonction testant l'égalité de deux flottants `a` et `b`  :"
   ]
  },
  {
   "cell_type": "code",
   "execution_count": 13,
   "metadata": {},
   "outputs": [],
   "source": [
    "def test_egalite(a,b):\n",
    "    return a==b\n",
    "    "
   ]
  },
  {
   "cell_type": "markdown",
   "metadata": {},
   "source": [
    "<div class='alert-info'>\n",
    "    \n",
    "a de grande chance d'échouer. En effet :"
   ]
  },
  {
   "cell_type": "code",
   "execution_count": 14,
   "metadata": {},
   "outputs": [
    {
     "data": {
      "text/plain": [
       "False"
      ]
     },
     "execution_count": 14,
     "metadata": {},
     "output_type": "execute_result"
    }
   ],
   "source": [
    "test_egalite(0.1,0.3-0.2)"
   ]
  },
  {
   "cell_type": "markdown",
   "metadata": {},
   "source": [
    "<div class='alert-info'>\n",
    "    \n",
    "Alors que faire ?<br> \n",
    "Il est plus sûr de tester la proximité de `a` et `b`. La fonction `abs(a-b)` renvoie un nombre positif égal à la distance entre `a` et `b`.<br> \n",
    "Il faut alors décider d'un écart minimal `eps` en dessous duquel on considèrera que `a` et `b` sont égaux.<br>\n",
    "`eps` est appelé aussi **la précision** du test."
   ]
  },
  {
   "cell_type": "code",
   "execution_count": 15,
   "metadata": {},
   "outputs": [],
   "source": [
    "def test2_egalite(a,b,eps): #eps désigne l'écart minimimal en dessous duquel on considèrera que a et b sont égaux.\n",
    "    return abs(b-a) < eps"
   ]
  },
  {
   "cell_type": "code",
   "execution_count": 16,
   "metadata": {},
   "outputs": [
    {
     "data": {
      "text/plain": [
       "True"
      ]
     },
     "execution_count": 16,
     "metadata": {},
     "output_type": "execute_result"
    }
   ],
   "source": [
    "test2_egalite(0.1,0.3-0.2, 10**(-12))"
   ]
  },
  {
   "cell_type": "markdown",
   "metadata": {},
   "source": [
    "Avec ce second test, on obtient bien que 0.1 = 0.3 - 0.2. Ouf!"
   ]
  },
  {
   "cell_type": "markdown",
   "metadata": {},
   "source": [
    "<div class='alert-info'>\n",
    "\n",
    "### A faire vous-même 4\n",
    "\n",
    "Soit `a`, `b` et `c` trois longueurs d'un triangle où `c` est la plus grande.<br>\n",
    "On considère la fonction ci-dessous :\n",
    "   "
   ]
  },
  {
   "cell_type": "code",
   "execution_count": 17,
   "metadata": {},
   "outputs": [],
   "source": [
    "def pythagore_base(a, b, c):\n",
    "    return a**2 + b**2 == c**2"
   ]
  },
  {
   "cell_type": "markdown",
   "metadata": {},
   "source": [
    "<div class='alert-info'>\n",
    "    \n",
    "1. Quel est le rôle de cette fonction ?<br>\n",
    "2. A travers les exemples suivants, vérifier que ctte fonction donne le résultat attendu avec des valeurs entières, mais que ce n’est pas forcément le cas avec des valeurs réelles."
   ]
  },
  {
   "cell_type": "code",
   "execution_count": 18,
   "metadata": {},
   "outputs": [
    {
     "data": {
      "text/plain": [
       "True"
      ]
     },
     "execution_count": 18,
     "metadata": {},
     "output_type": "execute_result"
    }
   ],
   "source": [
    "pythagore_base(3, 4, 5)"
   ]
  },
  {
   "cell_type": "code",
   "execution_count": 19,
   "metadata": {},
   "outputs": [
    {
     "data": {
      "text/plain": [
       "True"
      ]
     },
     "execution_count": 19,
     "metadata": {},
     "output_type": "execute_result"
    }
   ],
   "source": [
    "pythagore_base(0.3, 0.4, 0.5)"
   ]
  },
  {
   "cell_type": "code",
   "execution_count": 20,
   "metadata": {},
   "outputs": [
    {
     "data": {
      "text/plain": [
       "False"
      ]
     },
     "execution_count": 20,
     "metadata": {},
     "output_type": "execute_result"
    }
   ],
   "source": [
    "pythagore_base(0.03, 0.04, 0.05)"
   ]
  },
  {
   "cell_type": "markdown",
   "metadata": {},
   "source": [
    "<div class='alert-info'>\n",
    "\n",
    "3. Modifier  la  fonction `pythagore_base` que l'on nommera alors `pythagore2_base`  pour  qu’elle  donne  la  bonne  réponse,  en  utilisant  une marge d’erreur de $10^{−16}$.<br>\n",
    "4. Ecrire une fonction `pythagore(a, b, c)` qui détermine si on peut construire un triangle rectangle avec les longueurs `a`, `b` et `c` peu importe l’ordre. On pourra faire des appels de la fonction `pythagore2_base` dans cette fonction.\n"
   ]
  },
  {
   "cell_type": "code",
   "execution_count": 21,
   "metadata": {},
   "outputs": [
    {
     "data": {
      "text/plain": [
       "True"
      ]
     },
     "execution_count": 21,
     "metadata": {},
     "output_type": "execute_result"
    }
   ],
   "source": [
    "#3.\n",
    "def pythagore2_base(a, b, c):\n",
    "    return abs(a**2 + b**2 - c**2) < 10**(-16)\n",
    "\n",
    "pythagore2_base(0.03, 0.04, 0.05)\n"
   ]
  },
  {
   "cell_type": "code",
   "execution_count": 22,
   "metadata": {},
   "outputs": [
    {
     "data": {
      "text/plain": [
       "False"
      ]
     },
     "execution_count": 22,
     "metadata": {},
     "output_type": "execute_result"
    }
   ],
   "source": [
    "# 4. \n",
    "def pythagore(a, b, c):\n",
    "    if c >= a and c >= b :\n",
    "        return pythagore2_base(a,b,c)\n",
    "    elif b > a and b > c :\n",
    "        return pythagore2_base(a,c,b)\n",
    "    else :\n",
    "        return pythagore2_base(b,c,a)\n",
    "        \n",
    "pythagore(2, 2, 2)\n"
   ]
  },
  {
   "cell_type": "markdown",
   "metadata": {},
   "source": [
    "<div class='alert-info'>\n",
    "\n",
    "### A faire vous-même 5\n",
    "\n",
    "On considère la fonction $f$ définie sur $\\mathbb R$  par $f(x)=x^3-6x+2$.   \n",
    "L'équation $f(x)=1$ admet une solution unique $\\alpha$ dans l'intervalle $[0;1]$.  \n",
    "Trouver une valeur approchée de cette solution à $10^{-5}$ près. <br>\n",
    "On utilisera une boucle `while` et une précision de `eps` $= 10^{-3}$ pour le test $f(x)=1$."
   ]
  },
  {
   "cell_type": "code",
   "execution_count": 23,
   "metadata": {},
   "outputs": [
    {
     "name": "stdout",
     "output_type": "stream",
     "text": [
      "0.16729000000002653\n"
     ]
    }
   ],
   "source": [
    "def f(x):\n",
    "    return x**3 - 6 * x + 2\n",
    "\n",
    "eps = 10**(-3)\n",
    "a = 0\n",
    "\n",
    "while abs(f(a) - 1 ) > eps :\n",
    "    a += 10**(-5)\n",
    "print(a)"
   ]
  },
  {
   "cell_type": "code",
   "execution_count": 5,
   "metadata": {},
   "outputs": [
    {
     "data": {
      "text/plain": [
       "float"
      ]
     },
     "execution_count": 5,
     "metadata": {},
     "output_type": "execute_result"
    }
   ],
   "source": [
    "type(1e2)"
   ]
  },
  {
   "cell_type": "code",
   "execution_count": null,
   "metadata": {},
   "outputs": [],
   "source": []
  }
 ],
 "metadata": {
  "kernelspec": {
   "display_name": "Python 3",
   "language": "python",
   "name": "python3"
  },
  "language_info": {
   "codemirror_mode": {
    "name": "ipython",
    "version": 3
   },
   "file_extension": ".py",
   "mimetype": "text/x-python",
   "name": "python",
   "nbconvert_exporter": "python",
   "pygments_lexer": "ipython3",
   "version": "3.7.6"
  }
 },
 "nbformat": 4,
 "nbformat_minor": 4
}
