{
 "cells": [
  {
   "cell_type": "markdown",
   "metadata": {},
   "source": [
    "# 1. Import d'un fichier CSV dans Python\n",
    "\n",
    "L'objectif de cette partie est d'apprendre à importer un fichier csv en Python et d'obtenir une liste de dictionnaire comme cela a été vu en cours.\n",
    "\n",
    "\n",
    "\n",
    "**Propriété (Import d'un fichier csv)**\n",
    "\n",
    "- La bibliothèque *csv* implémente des classes pour lire des données tabulaires au format CSV.\n",
    "\n",
    "- La fonction *reader()* du module csv renvoie un objet de type csv.reader qui est itérable. \n",
    "Chaque élément de cet objet est une liste.\n",
    "\n",
    "- La fonction DictReader du module csv renvoie un objet de type csv.DictReader itérable aussi. \n",
    "Chaque élément de cet objet est une liste de tuple à 2 éléments. La première ligne du fichier csv se retrouve être les premiers éléments de chaque tuple.\n",
    "\n",
    "\n",
    "On utilisera le fichier *test.csv*  vu en cours à télécharger sur le site collaboratif d'Atrium puis à uploader dans Jupyter dans le même répertoire que votre notebook. \n",
    "\n",
    "Utilisons tout d'abord la fonction *reader* qui va permettre de lire le fichier CSV avec Python.\n",
    "\n",
    "\n",
    "\n",
    "\n",
    "\n"
   ]
  },
  {
   "cell_type": "code",
   "execution_count": 5,
   "metadata": {},
   "outputs": [],
   "source": [
    "import csv # import du module pour lire les fichiers csv"
   ]
  },
  {
   "cell_type": "code",
   "execution_count": 6,
   "metadata": {},
   "outputs": [
    {
     "data": {
      "text/plain": [
       "_csv.reader"
      ]
     },
     "execution_count": 6,
     "metadata": {},
     "output_type": "execute_result"
    }
   ],
   "source": [
    "file = open(\"test.csv\" , \"r\") # ouvrir le fichier en mode \"r\" i.e en mode lecture\n",
    "csv_en_liste = csv.reader(file , delimiter = \",\") # initialisation d’un lecteur de fichier\n",
    "type(csv_en_liste)"
   ]
  },
  {
   "cell_type": "markdown",
   "metadata": {},
   "source": [
    "Le type renvoyé par la fonction reader paraît peu exploitable mais on va utiliser sa propriété d'itérable pour afficher le contenu du fichier CSV avec Python."
   ]
  },
  {
   "cell_type": "code",
   "execution_count": 11,
   "metadata": {},
   "outputs": [
    {
     "name": "stdout",
     "output_type": "stream",
     "text": [
      "['Prénom', 'Classe', 'Note']\n",
      "['Paul', '1ere 5', '8']\n",
      "['Sami', '1ere 2', '13']\n",
      "['Sarah', '1ere 4', '10']\n",
      "['Marie', '1ere 3', '15']\n"
     ]
    }
   ],
   "source": [
    "file = open(\"test.csv\", \"r\",encoding=\"UTF-8\") # ouvrir le fichier en mode \"r\" i.e en mode lecture et\n",
    "#en choisissant l'encodage UTF-8\n",
    "csv_en_liste = csv.reader(file , delimiter = \",\") # initialisation d’un lecteur de fichier, delimiter est facultatif\n",
    "for ligne in csv_en_liste : # parcours du lecteur avec une boucle\n",
    "    print(ligne) # affichage ligne à ligne\n",
    "file.close () # fermeture du fichier"
   ]
  },
  {
   "cell_type": "markdown",
   "metadata": {},
   "source": [
    "### Exercice 1\n",
    "Ecrire une fonction *import_csv_list_de_list(fichierCSV)* où fichierCSV est une chaine de caractères représentant le nom du fichier CSV et qui renvoie une liste de listes avec la fonction reader :\n",
    "\n",
    "a) en construisant la liste par extension;<br>\n",
    "b) en construisant la liste par compréhension\n",
    "\n",
    "Par exemple *import_csv_list_de_list(test.csv)* renvoie : <br> \n",
    "[['Prénom', 'Classe', 'Note'], ['Paul', '1ere 5', '8'], ['Sami', '1ere 2', '13'], ['Sarah', '1ere 4', '10'], ['Marie', '1ere 3', '15']]\n",
    "\n",
    "\n",
    "    "
   ]
  },
  {
   "cell_type": "code",
   "execution_count": null,
   "metadata": {},
   "outputs": [],
   "source": []
  },
  {
   "cell_type": "markdown",
   "metadata": {},
   "source": [
    "**Remarque** : La présentation d'une table sous la forme d'une liste de listes n'est pas satisfaisante car elle ne permet pas d'accéder et de traiter facilement (voire automatiquement) les données.\n",
    "\n",
    "En effet, par exemple pour accéder à la classe de Sarah  '1ere 4',  il faut saisir import_csv_list_de_list(test.csv)[3][1], ce qui demande un peu de réflexion...\n",
    "\n",
    "La fonction *reader* n'étant pas efficace, on va s'intéresser à la fonction *DictReader* qui va nous permettre de travailler avec des dictionnaires.<br>\n",
    "Testons cette fonction *DictReader* pour décrire plus précisément son fonctionnement.\n",
    "\n"
   ]
  },
  {
   "cell_type": "code",
   "execution_count": 22,
   "metadata": {},
   "outputs": [
    {
     "name": "stdout",
     "output_type": "stream",
     "text": [
      "OrderedDict([('Prénom', 'Paul'), ('Classe', '1ere 5'), ('Note', '8')])\n",
      "OrderedDict([('Prénom', 'Sami'), ('Classe', '1ere 2'), ('Note', '13')])\n",
      "OrderedDict([('Prénom', 'Sarah'), ('Classe', '1ere 4'), ('Note', '10')])\n",
      "OrderedDict([('Prénom', 'Marie'), ('Classe', '1ere 3'), ('Note', '15')])\n"
     ]
    }
   ],
   "source": [
    "file = open(\"test.csv\" , \"r\", encoding=\"UTF-8\") \n",
    "csv_en_dico = csv.DictReader(file , delimiter = \",\") # initialisation d’un lecteur de fichier avec création automatique de dictionnaire\n",
    "for ligne in csv_en_dico : # parcours du lecteur avec une boucle\n",
    "    print(ligne) # affichage ligne à ligne\n",
    "file.close () # fermeture du fichier"
   ]
  },
  {
   "cell_type": "markdown",
   "metadata": {},
   "source": [
    "On obtient alors une suite de dictionnaires **ordonnés** (\"OrderedDict\").<br>\n",
    "Ce ne sont pas des dictionnaires : ce sont des listes de couples (tuples à deux éléments) composés de la clé et de la valeur.<br>\n",
    "On peut les transformer  en  de vrais dictionnaires avec la fonction *dict* qui transforme une liste de couples en un dictionnaire."
   ]
  },
  {
   "cell_type": "code",
   "execution_count": 31,
   "metadata": {},
   "outputs": [
    {
     "data": {
      "text/plain": [
       "{'Prénom': 'Paul', 'Classe': '1ere 5', 'Note': '8'}"
      ]
     },
     "execution_count": 31,
     "metadata": {},
     "output_type": "execute_result"
    }
   ],
   "source": [
    "dict([('Prénom', 'Paul'), ('Classe', '1ere 5'), ('Note', '8')])\n"
   ]
  },
  {
   "cell_type": "markdown",
   "metadata": {},
   "source": [
    "### Exercice 2 \n",
    "Ecrire un fonction import_csv(fichierCSV) qui reçoit un paramètre le nom du fichierCSV (avec son extension) de type chaine de caractère  et qui retourne une liste de dictionnaires qui contient les données du fichier csv :\n",
    "\n",
    "a) en construisant le dictionnaire par extension;<br>\n",
    "b) en construisant le dictionnaire par compréhension\n",
    "\n",
    "Vous testerez votre fonction sur le fichier *test.csv*\n"
   ]
  },
  {
   "cell_type": "code",
   "execution_count": null,
   "metadata": {},
   "outputs": [],
   "source": []
  }
 ],
 "metadata": {
  "kernelspec": {
   "display_name": "Python 3",
   "language": "python",
   "name": "python3"
  },
  "language_info": {
   "codemirror_mode": {
    "name": "ipython",
    "version": 3
   },
   "file_extension": ".py",
   "mimetype": "text/x-python",
   "name": "python",
   "nbconvert_exporter": "python",
   "pygments_lexer": "ipython3",
   "version": "3.7.6"
  }
 },
 "nbformat": 4,
 "nbformat_minor": 4
}
