{
 "cells": [
  {
   "cell_type": "markdown",
   "metadata": {},
   "source": [
    "# TP 3: Recherche et tri dans une table\n",
    "<br>\n",
    "\n",
    "<div class='alert-info'>\n",
    "    \n",
    "On reprend le fichier  [films.csv](https://www.atrium-sud.fr/group/1nsi-404602/documents?p_p_id=20&p_p_lifecycle=0&p_p_state=normal&p_p_mode=view&_20_displayStyle=&_20_entryStart=0&_20_viewFolders=false&_20_folderStart=0&_20_viewEntries=1&_20_folderEnd=75&_20_entryEnd=75&_20_folderId=376186723&_20_struts_action=%2Fdocument_library%2Fview) que l'on importe par la fonction `import2_csv`"
   ]
  },
  {
   "cell_type": "code",
   "execution_count": null,
   "metadata": {},
   "outputs": [],
   "source": [
    "import csv\n",
    "\n",
    "def import2_csv(nom_fichierCSV): \n",
    "    fichier_csv = open(nom_fichierCSV, 'r',encoding = 'UTF-8')\n",
    "    lecteur_csv= csv.DictReader(fichier_csv, delimiter = \";\")\n",
    "    liste_dicos=[dict(dico_ord) for dico_ord in lecteur_csv]\n",
    "    fichier_csv.close()\n",
    "    return liste_dicos\n",
    "\n",
    "table_films = import2_csv(\"films.csv\")\n",
    "table_films"
   ]
  },
  {
   "cell_type": "markdown",
   "metadata": {},
   "source": [
    "## I. Recherche dans une table\n",
    "<br>\n",
    "\n",
    "<div class='alert-info'>\n",
    "    \n",
    "On va faire tout d'abord des recherches selon certains critères à partir de cette table.\n",
    "### A faire vous-même 1 :\n",
    "1. Ecrire un programme qui permet de dresser la liste des films sortis en 2010 de notre table `table_films`. *On pourra utiliser une liste en compréhension*.<br>\n",
    "2. Ecrire un programme qui donne les recettes moyennes des films de cette table, ainsi que le\n",
    "titre du film ayant eu la recette minimale (et ladite recette).\n",
    "<br>\n",
    "3. Ecrire un programme qui donne le titre du film de cette table qui a la recette minimale non nulle ainsi que ladite recette.\n",
    "    <br>\n",
    "4. Ecrire une fonction `un_critere_depasse(nom_du_fichier_csv attribut,valeur_a_depasser)` qui extrait les enregistrements dont l'`attribut` a une valeur qui dépasse `valeur_a_depasser`.\n",
    "<br>\n",
    "Tester cette fonction avec un_critere_depasse('films.csv','runtime','100')\n",
    "    \n",
    "\n"
   ]
  },
  {
   "cell_type": "markdown",
   "metadata": {},
   "source": [
    "<div class='alert-info'>\n",
    "    \n",
    "On considère la fonction `projection` vue en cours qui permet de sélectionner les colonnes d'une table."
   ]
  },
  {
   "cell_type": "code",
   "execution_count": null,
   "metadata": {},
   "outputs": [],
   "source": [
    "def projection(table,liste_attributs): #table est une liste de dictionnaires\n",
    "    return[{cle:dico[cle] for cle in dico if cle in liste_attributs} for dico in table]"
   ]
  },
  {
   "cell_type": "markdown",
   "metadata": {},
   "source": [
    "<div class='alert-info'>\n",
    "\n",
    "### A faire vous-même 2 :\n",
    "A l'aide de la fonction `projection` dont vous analyserez le code, créer la variable `table2_films` qui sélectionne seulement les deux premiers attributs de la table initiale `table_films`"
   ]
  },
  {
   "cell_type": "markdown",
   "metadata": {},
   "source": [
    "# II. Tri dans une table selon une colonne\n",
    "<br>\n",
    "<div class='alert-info'>\n",
    "    \n",
    "En Python, il existe une méthode `.sort()` et une fonction `sorted` qui permet de ranger dans l'ordre croissant les éléments d'une liste.<br>\n",
    "On va comparer dans un premier temps la méthode `.sort()`  et la fonction `sorted`.\n",
    "<br>\n",
    "    \n",
    "### A faire vous- même 3 :\n",
    "Pour cela, exécuter le code ci-dessous. Quelle est la différence entre la méthode `.sort()`  et la fonction `sorted` ?"
   ]
  },
  {
   "cell_type": "code",
   "execution_count": null,
   "metadata": {},
   "outputs": [],
   "source": [
    "L = [5,15,8,2]\n",
    "L.sort()\n",
    "L"
   ]
  },
  {
   "cell_type": "code",
   "execution_count": null,
   "metadata": {},
   "outputs": [],
   "source": [
    "L = [5,15,8,2]\n",
    "print(sorted(L))\n",
    "L"
   ]
  },
  {
   "cell_type": "code",
   "execution_count": null,
   "metadata": {},
   "outputs": [],
   "source": [
    "L = [5,15,8,2]\n",
    "sorted(L, reverse = True)"
   ]
  },
  {
   "cell_type": "markdown",
   "metadata": {},
   "source": [
    "<div class='alert-info'>\n",
    "\n",
    "Maintenant, on cherche à trier une liste de dictionnaires.<br>\n",
    "Tentons naïvement le code ci-dessous :"
   ]
  },
  {
   "cell_type": "code",
   "execution_count": null,
   "metadata": {},
   "outputs": [],
   "source": [
    "sorted(table_films)"
   ]
  },
  {
   "cell_type": "markdown",
   "metadata": {},
   "source": [
    "<div class='alert-info'>\n",
    "    \n",
    "Il est normal que cette tentative échoue : un dictionnaire possède plusieurs clés différentes.<br>\n",
    "Ici, plusieurs clés peuvent être des critères de tri : l'identifiant , le titre, l'année etc...<br>\n",
    "On va créer alors une fonction clé de tri qui va nous permettre de trier la liste de dictionnaires selon une clé précise.<br>\n",
    "Par exemple si on veut trier la table ``table_films`` selon l'identifiant, on procède comme ci-dessous :"
   ]
  },
  {
   "cell_type": "code",
   "execution_count": null,
   "metadata": {},
   "outputs": [],
   "source": [
    "def cle_tri_id(dico):\n",
    "    return int(dico['movie_id'])"
   ]
  },
  {
   "cell_type": "markdown",
   "metadata": {},
   "source": [
    "<div class='alert-info'>\n",
    "    \n",
    "La création de cette fonction `cle_tri_id` va nous permettre de spécifier dans la fonction `sorted` une clé de tri,\n",
    "par le paramètre `key` :"
   ]
  },
  {
   "cell_type": "code",
   "execution_count": null,
   "metadata": {},
   "outputs": [],
   "source": [
    "sorted(table_films, key = cle_tri_id)"
   ]
  },
  {
   "cell_type": "markdown",
   "metadata": {},
   "source": [
    "<div class='alert-info'>\n",
    "\n",
    "### A faire vous-même 4 :\n",
    "1. Trier la table `table_films`  selon le titre par ordre croissant (i.e par ordre alphabétique) <br>\n",
    "2.  Trier la table `table_films`  selon leur durée par ordre décroissant."
   ]
  },
  {
   "cell_type": "code",
   "execution_count": null,
   "metadata": {},
   "outputs": [],
   "source": []
  },
  {
   "cell_type": "markdown",
   "metadata": {},
   "source": [
    "# III. Tri d'une autre base de données : les joueurs du Top14\n",
    "<br>\n",
    "<div class='alert-info'>\n",
    "    \n",
    "Télécharger puis importer le fichier [top14.csv](https://www.atrium-sud.fr/group/1nsi-404602/documents?p_p_id=20&p_p_lifecycle=0&p_p_state=normal&p_p_mode=view&_20_displayStyle=&_20_entryStart=0&_20_viewFolders=false&_20_folderStart=0&_20_viewEntries=1&_20_folderEnd=75&_20_entryEnd=75&_20_folderId=376186723&_20_struts_action=%2Fdocument_library%2Fview) recensant l'ensemble des joueurs du Top14 selon certains attributs lors de la saison 2019/2020."
   ]
  },
  {
   "cell_type": "code",
   "execution_count": null,
   "metadata": {},
   "outputs": [],
   "source": [
    "def import_csv(nom_fichierCSV): \n",
    "    fichier_csv = open(nom_fichierCSV, 'r',encoding = 'UTF-8')\n",
    "    lecteur_csv= csv.DictReader(fichier_csv, delimiter = \",\")\n",
    "    liste_dicos=[dict(dico_ord) for dico_ord in lecteur_csv]\n",
    "    fichier_csv.close()\n",
    "    return liste_dicos\n",
    "\n",
    "joueursTop14 = import_csv(\"top14.csv\")\n",
    "\n",
    "joueursTop14"
   ]
  },
  {
   "cell_type": "markdown",
   "metadata": {},
   "source": [
    "## III.1 Créer une fonction filtre\n",
    "<br>\n",
    "<div class='alert-info'>\n",
    "\n",
    "L'objectif est de créer une fonction `joueursEquipe(equipe)` qui renvoie une liste contentant tous les joueurs de l'équipe `equipe`.<br> \n",
    "Le paramètre `equipe` sera donnée sous forme de chaîne de caractères. \n",
    "La valeur renvoyée sera de type liste.<br>\n",
    "Tester la fonction pour obtenir tous les joueurs du RCT (Rugby Club Toulonnais) avec leurs attributs.<br>\n",
    "Préciser le nombre de joueurs dans l'effectif du RCT."
   ]
  },
  {
   "cell_type": "code",
   "execution_count": null,
   "metadata": {},
   "outputs": [],
   "source": []
  },
  {
   "cell_type": "markdown",
   "metadata": {},
   "source": [
    "## III.2 Un peu de tri\n",
    "<div class='alert-info'>\n",
    "    \n",
    "### A faire vous-même 5 :\n",
    "1. Trier les joueurs du Top14 par taille croissante.\n",
    "2. Trier les joueurs du RCT par taille décroissante.\n",
    "3. Trier par ordre croissant, les joueurs du RCT suivant leur Indice de Masse Corporelle ([IMC](https://fr.wikipedia.org/wiki/Indice_de_masse_corporelle) )"
   ]
  },
  {
   "cell_type": "code",
   "execution_count": null,
   "metadata": {},
   "outputs": [],
   "source": []
  },
  {
   "cell_type": "markdown",
   "metadata": {},
   "source": [
    "<div class='alert-info'>\n",
    "\n",
    "On va s'intéresser aux joueurs du Top 14 ayant profil proche du demi de mêlée du RCT : Baptiste Serin.\n",
    "\n",
    "### A faire vous-même 7 : Distance morphologique entre deux joueurs\n",
    "1. Déterminer à quel rang se situe le joueur Baptiste Serin dans la table`joueursTop14`.\n",
    "2. Classer les joueurs du Top14 selon leur distance morphologique à Baptiste SERIN"
   ]
  },
  {
   "cell_type": "code",
   "execution_count": null,
   "metadata": {},
   "outputs": [],
   "source": []
  }
 ],
 "metadata": {
  "kernelspec": {
   "display_name": "Python 3",
   "language": "python",
   "name": "python3"
  },
  "language_info": {
   "codemirror_mode": {
    "name": "ipython",
    "version": 3
   },
   "file_extension": ".py",
   "mimetype": "text/x-python",
   "name": "python",
   "nbconvert_exporter": "python",
   "pygments_lexer": "ipython3",
   "version": "3.7.6"
  }
 },
 "nbformat": 4,
 "nbformat_minor": 4
}
